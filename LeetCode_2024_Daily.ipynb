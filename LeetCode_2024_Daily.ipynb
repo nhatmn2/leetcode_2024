{
  "nbformat": 4,
  "nbformat_minor": 0,
  "metadata": {
    "colab": {
      "provenance": [],
      "collapsed_sections": [
        "_eA43Ctb5giv",
        "_t9cZKJ_-c9M"
      ],
      "toc_visible": true,
      "authorship_tag": "ABX9TyOChqZ5+gD2BijQxnp/F6SL",
      "include_colab_link": true
    },
    "kernelspec": {
      "name": "python3",
      "display_name": "Python 3"
    },
    "language_info": {
      "name": "python"
    }
  },
  "cells": [
    {
      "cell_type": "markdown",
      "metadata": {
        "id": "view-in-github",
        "colab_type": "text"
      },
      "source": [
        "<a href=\"https://colab.research.google.com/github/nhatmn2/leetcode_2024/blob/main/LeetCode_2024_Daily.ipynb\" target=\"_parent\"><img src=\"https://colab.research.google.com/assets/colab-badge.svg\" alt=\"Open In Colab\"/></a>"
      ]
    },
    {
      "cell_type": "markdown",
      "source": [
        "# MAY PROBLEMS"
      ],
      "metadata": {
        "id": "o-CR8DM3m0kR"
      }
    },
    {
      "cell_type": "markdown",
      "source": [
        "##1206: Get Equal Substrings Within Budget (Medium)\n",
        "You are given two strings s and t of the same length and an integer maxCost.\n",
        "\n",
        "You want to change s to t. Changing the ith character of s to ith character of t costs |s[i] - t[i]| (i.e., the absolute difference between the ASCII values of the characters).\n",
        "\n",
        "Return the maximum length of a substring of s that can be changed to be the same as the corresponding substring of t with a cost less than or equal to maxCost. If there is no substring from s that can be changed to its corresponding substring from t, return 0.\n",
        "\n",
        "Example 1:\n",
        "\n",
        "Input: s = \"abcd\", t = \"bcdf\", maxCost = 3\n",
        "Output: 3\n",
        "Explanation: \"abc\" of s can change to \"bcd\".\n",
        "That costs 3, so the maximum length is 3.\n",
        "Example 2:\n",
        "\n",
        "Input: s = \"abcd\", t = \"cdef\", maxCost = 3\n",
        "Output: 1\n",
        "Explanation: Each character in s costs 2 to change to character in t,  so the maximum length is 1.\n",
        "\n",
        "Example 3:\n",
        "\n",
        "Input: s = \"abcd\", t = \"acde\", maxCost = 0\n",
        "Output: 1\n",
        "Explanation: You cannot make any change, so the maximum length is 1."
      ],
      "metadata": {
        "id": "_eA43Ctb5giv"
      }
    },
    {
      "cell_type": "code",
      "source": [
        "class Solution:\n",
        "  def equalSubstring(self, s: str, t: str, maxCost: int) -> int:\n",
        "    currCost = 0\n",
        "    left = 0\n",
        "    res = 0\n",
        "\n",
        "    for right in range(len(s)):\n",
        "      currCost += abs(ord(s[right]) - ord(t[right]))\n",
        "      while currCost > maxCost:\n",
        "        currCost -= abs(ord(s[left]) - ord(t[left]))\n",
        "        left += 1\n",
        "      res = max(res, right - left + 1)\n",
        "    return res"
      ],
      "metadata": {
        "id": "UbyShgOg5__D"
      },
      "execution_count": null,
      "outputs": []
    },
    {
      "cell_type": "code",
      "source": [
        "if __name__ == '__main__':\n",
        "    sol = Solution()\n",
        "\n",
        "    # Test cases\n",
        "    test_cases = [\n",
        "        (\"abcd\", \"bcdf\", 3, 3),\n",
        "        (\"abcd\", \"cdef\", 3, 1),\n",
        "        (\"abcd\", \"acde\", 0, 1)\n",
        "    ]\n",
        "\n",
        "    # Initialize variables to track test outcomes\n",
        "    passed_count = 0\n",
        "\n",
        "    # Running the test cases\n",
        "    for i, (s, t, maxCost, expected) in enumerate(test_cases, start=1):\n",
        "        result = sol.equalSubstring(s, t, maxCost)\n",
        "        if result == expected:\n",
        "            print(f\"Test case {i} passed: {s}, {t}, maxCost={maxCost} => Expected: {expected}, Got: {result}\")\n",
        "            passed_count += 1\n",
        "        else:\n",
        "            print(f\"Test case {i} failed: {s}, {t}, maxCost={maxCost} => Expected: {expected}, Got: {result}\")\n",
        "\n",
        "    # Print summary of test results\n",
        "    print(f\"Test results: {passed_count} passed, {len(test_cases) - passed_count} failed.\")\n",
        "    # Print summary\n",
        "    print(\"All tests completed.\")\n"
      ],
      "metadata": {
        "colab": {
          "base_uri": "https://localhost:8080/"
        },
        "id": "FIhIRCSk9HPQ",
        "outputId": "198cee23-9693-4347-90e4-0eeaf875a839"
      },
      "execution_count": null,
      "outputs": [
        {
          "output_type": "stream",
          "name": "stdout",
          "text": [
            "Test case 1 passed: abcd, bcdf, maxCost=3 => Expected: 3, Got: 3\n",
            "Test case 2 passed: abcd, cdef, maxCost=3 => Expected: 1, Got: 1\n",
            "Test case 3 passed: abcd, acde, maxCost=0 => Expected: 1, Got: 1\n",
            "Test results: 3 passed, 0 failed.\n",
            "All tests completed.\n"
          ]
        }
      ]
    },
    {
      "cell_type": "markdown",
      "source": [
        "##1608: Special Array With X Elements Greater Than or Equal X (Easy)\n",
        "You are given an array nums of non-negative integers. nums is considered special if there exists a number x such that there are exactly x numbers in nums that are greater than or equal to x.\n",
        "\n",
        "Notice that x does not have to be an element in nums.\n",
        "\n",
        "Return x if the array is special, otherwise, return -1. It can be proven that if nums is special, the value for x is unique.\n",
        "\n",
        "\n",
        "\n",
        "Example 1:\n",
        "\n",
        "Input: nums = [3,5]\n",
        "Output: 2\n",
        "Explanation: There are 2 values (3 and 5) that are greater than or equal to 2.\n",
        "\n",
        "Example 2:\n",
        "\n",
        "Input: nums = [0,0]\n",
        "Output: -1\n",
        "Explanation: No numbers fit the criteria for x.\n",
        "If x = 0, there should be 0 numbers >= x, but there are 2.\n",
        "If x = 1, there should be 1 number >= x, but there are 0.\n",
        "If x = 2, there should be 2 numbers >= x, but there are 0.\n",
        "x cannot be greater since there are only 2 numbers in nums.\n",
        "\n",
        "Example 3:\n",
        "\n",
        "Input: nums = [0,4,3,0,4]\n",
        "Output: 3\n",
        "Explanation: There are 3 values that are greater than or equal to 3."
      ],
      "metadata": {
        "id": "_t9cZKJ_-c9M"
      }
    },
    {
      "cell_type": "code",
      "source": [
        "from typing import List\n",
        "\n",
        "class Solution:\n",
        "    def specialArray(self, nums: List[int]) -> int:\n",
        "        count = [0] * (len(nums) + 1)\n",
        "        for n in nums:\n",
        "            index = n if n < len(nums) else len(nums)\n",
        "            count[index] += 1\n",
        "\n",
        "        total_right = 0\n",
        "        for i in reversed(range(len(nums) + 1)):\n",
        "            total_right += count[i]\n",
        "            if i == total_right:\n",
        "                return total_right\n",
        "        return -1"
      ],
      "metadata": {
        "id": "kuJUbKJj-swb"
      },
      "execution_count": null,
      "outputs": []
    },
    {
      "cell_type": "code",
      "source": [
        "if __name__ == '__main__':\n",
        "    sol = Solution()\n",
        "\n",
        "    # Test cases\n",
        "    test_cases = [\n",
        "        ([3, 5, 0, 2, 1, 7], 3),   # Example where the output should be 3\n",
        "        ([0, 0, 3, 4, 4], 3),      # Example where the output should be 3\n",
        "        ([3, 6, 7, 7, 0], -1),     # Example where no valid x exists, output should be -1\n",
        "        ([1, 2, 2, 2, 5, 5, 5], 5) # Example where the output should be 5\n",
        "    ]\n",
        "\n",
        "    # Initialize variables to track test outcomes\n",
        "    passed_count = 0\n",
        "\n",
        "    # Running the test cases\n",
        "    for i, (nums, expected) in enumerate(test_cases, start=1):\n",
        "        result = sol.specialArray(nums)\n",
        "        if result == expected:\n",
        "            print(f\"Test case {i} passed: nums={nums} => Expected: {expected}, Got: {result}\")\n",
        "            passed_count += 1\n",
        "        else:\n",
        "            print(f\"Test case {i} failed: nums={nums} => Expected: {expected}, Got: {result}\")\n",
        "\n",
        "    # Print summary of test results\n",
        "    print(f\"Test results: {passed_count} passed, {len(test_cases) - passed_count} failed.\")\n",
        "    print(\"All tests completed.\")"
      ],
      "metadata": {
        "colab": {
          "base_uri": "https://localhost:8080/"
        },
        "id": "pOD_zpQ4_G5F",
        "outputId": "b554b074-8861-480a-8fcd-1c2ee9e43bc9"
      },
      "execution_count": null,
      "outputs": [
        {
          "output_type": "stream",
          "name": "stdout",
          "text": [
            "Test case 1 passed: nums=[3, 5, 0, 2, 1, 7] => Expected: 3, Got: 3\n",
            "Test case 2 passed: nums=[0, 0, 3, 4, 4] => Expected: 3, Got: 3\n",
            "Test case 3 passed: nums=[3, 6, 7, 7, 0] => Expected: -1, Got: -1\n",
            "Test case 4 failed: nums=[1, 2, 2, 2, 5, 5, 5] => Expected: 5, Got: 3\n",
            "Test results: 3 passed, 1 failed.\n",
            "All tests completed.\n"
          ]
        }
      ]
    },
    {
      "cell_type": "markdown",
      "source": [
        "##1404: Number of Steps to Reduce a Number in Binary Representation to One (Medium)\n",
        "Given the binary representation of an integer as a string s, return the number of steps to reduce it to 1 under the following rules:\n",
        "\n",
        "* If the current number is even, you have to divide it by 2.\n",
        "\n",
        "* If the current number is odd, you have to add 1 to it.\n",
        "\n",
        "It is guaranteed that you can always reach one for all test cases.\n",
        "\n",
        "Example 1:\n",
        "\n",
        "Input: s = \"1101\"\n",
        "\n",
        "Output: 6\n",
        "\n",
        "Explanation: \"1101\" corressponds to number 13 in their decimal representation\n",
        "\n",
        "Step 1) 13 is odd, add 1 and obtain 14.\n",
        "\n",
        "Step 2) 14 is even, divide by 2 and obtain 7.\n",
        "\n",
        "Step 3) 7 is odd, add 1 and obtain 8.\n",
        "\n",
        "Step 4) 8 is even, divide by 2 and obtain 4.  \n",
        "\n",
        "Step 5) 4 is even, divide by 2 and obtain 2.\n",
        "\n",
        "Step 6) 2 is even, divide by 2 and obtain 1.\n",
        "\n",
        "\n",
        "\n",
        "\n"
      ],
      "metadata": {
        "id": "wWRGfoAR1on6"
      }
    },
    {
      "cell_type": "markdown",
      "source": [
        "**2 solutions to this problem:**\n",
        "* first solution has time complexity of O(N^2)\n",
        "\n",
        "* second solution has time complexity of O(N)"
      ],
      "metadata": {
        "id": "5Vi-DmJO2btS"
      }
    },
    {
      "cell_type": "code",
      "source": [
        "#fist solution\n",
        "class Solution1:\n",
        "    def numSteps(self, s: str) -> int:\n",
        "        def addOne(s):\n",
        "            i = len(s) - 1\n",
        "            s = list(s)\n",
        "            while i >= 0 and s[i] == \"1\":\n",
        "                s[i] ==\"0\"\n",
        "                i -= 1\n",
        "            if i == -1:\n",
        "                s = [\"1\"] + s\n",
        "            else:\n",
        "                s[i] = \"1\"\n",
        "            return \"\".join(s)\n",
        "\n",
        "        steps = 0\n",
        "        while s != \"1\":\n",
        "            if s[-1] == \"0\":\n",
        "                s = s[:-1]\n",
        "            else:\n",
        "                s = addOne(s)\n",
        "            steps += 1\n",
        "        return steps\n"
      ],
      "metadata": {
        "id": "Wic3K45RO7eg"
      },
      "execution_count": null,
      "outputs": []
    },
    {
      "cell_type": "code",
      "source": [
        "#second solution using the carry\n",
        "class Solution2:\n",
        "    def numSteps(self, s: str) -> int:\n",
        "        steps = 0\n",
        "        carry = 0\n",
        "        for i in reversed(range(1, len(s))):\n",
        "            digit = (int(s[i]) + carry) % 2\n",
        "            if digit == 0:\n",
        "                steps += 1\n",
        "            elif digit == 1:\n",
        "                carry = 1\n",
        "                steps += 2\n",
        "        return steps + carry"
      ],
      "metadata": {
        "id": "iNIQshmlUw7G"
      },
      "execution_count": null,
      "outputs": []
    },
    {
      "cell_type": "code",
      "source": [
        "def main():\n",
        "    # Instantiate the Solution2 class\n",
        "    solution = Solution2()\n",
        "\n",
        "    # Define test cases\n",
        "    test_cases = [\n",
        "        (\"1101\", 6),  # Example case from the problem statement\n",
        "        (\"10\", 1),    # Simple case\n",
        "        (\"1\", 0),     # Edge case, no steps needed\n",
        "        (\"11\", 3),    # Another case with carry\n",
        "        (\"111\", 4),   # Case with multiple carries\n",
        "        (\"1010\", 6),  # Mixed case\n",
        "        (\"100\", 2),   # Simple case with no carry\n",
        "    ]\n",
        "\n",
        "    # Run tests\n",
        "    for s, expected in test_cases:\n",
        "        result = solution.numSteps(s)\n",
        "        assert result == expected, f\"Test failed for input {s}: expected {expected}, got {result}\"\n",
        "        print(f\"Test passed for input {s}: got {result}\")\n",
        "\n",
        "if __name__ == \"__main__\":\n",
        "    main()\n"
      ],
      "metadata": {
        "colab": {
          "base_uri": "https://localhost:8080/"
        },
        "id": "1oUd0EiUU_wU",
        "outputId": "036b33b1-a61d-442e-9fca-5cd3e375b056"
      },
      "execution_count": null,
      "outputs": [
        {
          "output_type": "stream",
          "name": "stdout",
          "text": [
            "Test passed for input 1101: got 6\n",
            "Test passed for input 10: got 1\n",
            "Test passed for input 1: got 0\n",
            "Test passed for input 11: got 3\n",
            "Test passed for input 111: got 4\n",
            "Test passed for input 1010: got 6\n",
            "Test passed for input 100: got 2\n"
          ]
        }
      ]
    },
    {
      "cell_type": "markdown",
      "source": [
        "##1442: Count Triplets That Can Form Two Arrays of Equal XOR (Medium)\n",
        "Given an array of integers arr.\n",
        "\n",
        "We want to select three indices i, j and k where (0 <= i < j <= k < arr.length).\n",
        "\n",
        "Let's define a and b as follows:\n",
        "\n",
        "a = arr[i] ^ arr[i + 1] ^ ... ^ arr[j - 1]\n",
        "\n",
        "b = arr[j] ^ arr[j + 1] ^ ... ^ arr[k]\n",
        "\n",
        "Note that ^ denotes the bitwise-xor operation.\n",
        "\n",
        "Return the number of triplets (i, j and k) Where a == b.\n",
        "\n",
        "**Example 1:**\n",
        "\n",
        "Input: arr = [2,3,1,6,7]\n",
        "\n",
        "Output: 4\n",
        "\n",
        "Explanation: The triplets are (0,1,2), (0,2,2), (2,3,4) and (2,4,4)\n",
        "\n",
        "**Example 2:**\n",
        "\n",
        "Input: arr = [1,1,1,1,1]\n",
        "\n",
        "Output: 10\n"
      ],
      "metadata": {
        "id": "rWqTsVpY-hdw"
      }
    },
    {
      "cell_type": "markdown",
      "source": [
        "**4 different solutions**\n",
        "\n",
        "1.   First solution Time Complexity O(n^4)\n",
        "2.   Second solution Time Complexity O(n^3) - Optimization\n",
        "3.   Third solution Time Complexity O(n^2) - Optimization\n",
        "4.   Forth solution Time Complexity O(n)\n",
        "\n"
      ],
      "metadata": {
        "id": "4G9oQ31V_VWc"
      }
    },
    {
      "cell_type": "code",
      "source": [
        "#Time complexity O(n^4)\n",
        "class Solution1:\n",
        "  def countTriplets(self, arr: List[int]) -> int:\n",
        "    N = len(arr)\n",
        "    res = 0\n",
        "    for i in range(N - 1):\n",
        "      for j in range(i+1, N):\n",
        "        for k in range(j, N):\n",
        "          a, b = 0, 0\n",
        "          for idx in range(i, j):\n",
        "            a ^= arr[idx]\n",
        "          for idx in range(j, k+1):\n",
        "            b ^= arr[idx]\n",
        "          if a == b:\n",
        "            res += 1\n",
        "\n",
        "    return res"
      ],
      "metadata": {
        "id": "neY0qq8__Eoq"
      },
      "execution_count": null,
      "outputs": []
    },
    {
      "cell_type": "code",
      "source": [
        "#Time complexity O(n^3)\n",
        "class Solution2:\n",
        "  def countTriplets(self, arr: List[int]) -> int:\n",
        "    N = len(arr)\n",
        "    res = 0\n",
        "    for i in range(N - 1):\n",
        "      a = 0\n",
        "      for j in range(i+1, N):\n",
        "        a ^= arr[j - 1]\n",
        "        b = 0\n",
        "        for k in range(j, N):\n",
        "          b ^= arr[k]\n",
        "          if a == b:\n",
        "            res += 1\n",
        "    return res"
      ],
      "metadata": {
        "id": "1UMaLsGc_JAH"
      },
      "execution_count": null,
      "outputs": []
    },
    {
      "cell_type": "code",
      "source": [
        "#Time complexity O(n^2)\n",
        "#using XOR property\n",
        "#First property of XOR - if a == b: then a XOR b = 0\n",
        "#Second property of XOR  - if x1 XOR x2 XOR x3 XOR x4 == 0: then x1 XOR x2 = x3 XOR x4, etc.\n",
        "class Solution3:\n",
        "  def countTriplets(self, arr: List[int]) -> int:\n",
        "    N = len(arr)\n",
        "    res = 0\n",
        "    for i in range(N - 1):\n",
        "      curr_xor = arr[i]\n",
        "      for k in range(i+1, N):\n",
        "        curr_xor ^= arr[k]\n",
        "        if curr_xor == 0:\n",
        "          res += (k - i)\n",
        "    return res"
      ],
      "metadata": {
        "id": "70cpmag2D-Gq"
      },
      "execution_count": null,
      "outputs": []
    },
    {
      "cell_type": "code",
      "source": [
        "#Time complexity O(n)\n"
      ],
      "metadata": {
        "id": "WPMA9cenINbJ"
      },
      "execution_count": null,
      "outputs": []
    },
    {
      "cell_type": "markdown",
      "source": [
        "##260: Single Number III (Medium)\n"
      ],
      "metadata": {
        "id": "UHyH58hgeCIl"
      }
    },
    {
      "cell_type": "markdown",
      "source": [
        "Do we really need\n",
        "The XOR-based approach leverages properties of the XOR operation to efficiently find the two unique numbers that appear only once in the array. Here's a step-by-step breakdown of the intuition behind this approach:\n",
        "\n",
        "XOR Properties:\n",
        "\n",
        "XORing a number with itself results in zero: a ^ a = 0.\n",
        "XORing a number with zero results in the number itself: a ^ 0 = a.\n",
        "XOR is commutative and associative, meaning the order of operations does not matter: a ^ b ^ c = c ^ a ^ b.\n",
        "Initial XOR Pass:\n",
        "\n",
        "By XORing all the numbers in the array, pairs of identical numbers will cancel each other out, leaving the XOR of the two unique numbers: xor = num1 ^ num2.\n",
        "Isolate a Distinguishing Bit:\n",
        "\n",
        "The result xor is the XOR of the two unique numbers. This result will have bits set where the two numbers differ.\n",
        "By isolating the rightmost set bit using mask = xor & -xor, we get a bit that is different between num1 and num2.\n",
        "Partitioning:\n",
        "\n",
        "Using this distinguishing bit, we can partition the numbers into two groups: one group where the bit is set and another where it is not set.\n",
        "XORing the numbers within each group will cancel out the pairs and leave the unique number in each group."
      ],
      "metadata": {
        "id": "lFWWx5A1eY8A"
      }
    },
    {
      "cell_type": "markdown",
      "source": [
        "#JUNE PROBLEMS"
      ],
      "metadata": {
        "id": "xmYYoywXmlKP"
      }
    },
    {
      "cell_type": "markdown",
      "source": [
        "##3110: Score of a String (Easy)\n",
        "You are given a string s. The score of a string is defined as the sum of the absolute difference between the ASCII values of adjacent characters.\n",
        "\n",
        "Return the score of s.\n",
        "\n",
        "\n",
        "Example 1:\n",
        "\n",
        "Input: s = \"hello\"\n",
        "\n",
        "Output: 13\n",
        "\n",
        "Explanation:\n",
        "\n",
        "The ASCII values of the characters in s are: 'h' = 104, 'e' = 101, 'l' = 108, 'o' = 111. So, the score of s would be |104 - 101| + |101 - 108| + |108 - 108| + |108 - 111| = 3 + 7 + 0 + 3 = 13."
      ],
      "metadata": {
        "id": "dhkKho4RnAUz"
      }
    },
    {
      "cell_type": "code",
      "source": [
        "class Solution:\n",
        "    def scoreOfString(self, s: str) -> int:\n",
        "        score = 0\n",
        "        for i in range(len(s)-1):\n",
        "            score += abs(ord(s[i]) - ord(s[i+1]))\n",
        "        return score"
      ],
      "metadata": {
        "id": "w-YSF0oGnXYX"
      },
      "execution_count": null,
      "outputs": []
    },
    {
      "cell_type": "markdown",
      "source": [
        "##344: Reverse String (Easy)\n",
        "Write a function that reverses a string. The input string is given as an array of characters s.\n",
        "\n",
        "You must do this by modifying the input array in-place with O(1) extra memory.\n",
        "\n",
        "\n",
        "Example 1:\n",
        "\n",
        "Input: s = [\"h\",\"e\",\"l\",\"l\",\"o\"]\n",
        "\n",
        "Output: [\"o\",\"l\",\"l\",\"e\",\"h\"]\n",
        "\n",
        "\n",
        "Example 2:\n",
        "\n",
        "Input: s = [\"H\",\"a\",\"n\",\"n\",\"a\",\"h\"]\n",
        "\n",
        "Output: [\"h\",\"a\",\"n\",\"n\",\"a\",\"H\"]\n"
      ],
      "metadata": {
        "id": "YcT1jsOznbH0"
      }
    },
    {
      "cell_type": "code",
      "source": [
        "class Solution:\n",
        "    def reverseString(self, s: List[str]) -> None:\n",
        "        \"\"\"\n",
        "        Do not return anything, modify s in-place instead.\n",
        "        \"\"\"\n",
        "        left = 0\n",
        "        right = len(s) - 1\n",
        "        while left <= right:\n",
        "            s[left], s[right] = s[right], s[left]\n",
        "            left += 1\n",
        "            right -= 1"
      ],
      "metadata": {
        "id": "dX_WrW9Gnuue"
      },
      "execution_count": null,
      "outputs": []
    },
    {
      "cell_type": "markdown",
      "source": [],
      "metadata": {
        "id": "_LCzZ_bHK52p"
      }
    },
    {
      "cell_type": "markdown",
      "source": [
        "##2486: Append Characters to String to Make Subsequence (Medium)\n",
        "\n",
        "You are given two strings s and t consisting of only lowercase English letters.\n",
        "\n",
        "Return the minimum number of characters that need to be appended to the end of s so that t becomes a subsequence of s.\n",
        "\n",
        "A subsequence is a string that can be derived from another string by deleting some or no characters without changing the order of the remaining characters.\n",
        "\n",
        "\n",
        "\n",
        "Example 1:\n",
        "\n",
        "Input: s = \"coaching\", t = \"coding\"\n",
        "\n",
        "Output: 4\n",
        "\n",
        "Explanation: Append the characters \"ding\" to the end of s so that s = \"coachingding\".\n",
        "\n",
        "Now, t is a subsequence of s (\"coachingding\").\n",
        "\n",
        "It can be shown that appending any 3 characters to the end of s will never make t a subsequence."
      ],
      "metadata": {
        "id": "0eOMRtsXK76J"
      }
    },
    {
      "cell_type": "code",
      "source": [
        "class Solution:\n",
        "    def appendCharacters(self, s: str, t: str) -> int:\n",
        "        i, j = 0, 0\n",
        "        while i < len(s) and j < len(t):\n",
        "            if s[i] == t[j]:\n",
        "                i, j = i + 1, j + 1\n",
        "            else:\n",
        "                i += 1\n",
        "        return len(t) -j"
      ],
      "metadata": {
        "id": "GSWE0yrzLUdO"
      },
      "execution_count": null,
      "outputs": []
    }
  ]
}